{
 "cells": [
  {
   "cell_type": "code",
   "execution_count": 1,
   "metadata": {},
   "outputs": [
    {
     "name": "stderr",
     "output_type": "stream",
     "text": [
      "[nltk_data] Downloading package stopwords to\n",
      "[nltk_data]     C:\\Users\\Neetu\\AppData\\Roaming\\nltk_data...\n",
      "[nltk_data]   Package stopwords is already up-to-date!\n",
      "[nltk_data] Downloading package punkt to\n",
      "[nltk_data]     C:\\Users\\Neetu\\AppData\\Roaming\\nltk_data...\n",
      "[nltk_data]   Package punkt is already up-to-date!\n"
     ]
    },
    {
     "data": {
      "text/plain": [
       "True"
      ]
     },
     "execution_count": 1,
     "metadata": {},
     "output_type": "execute_result"
    }
   ],
   "source": [
    "import numpy as np\n",
    "import pandas as pd\n",
    "import re\n",
    "\n",
    "import nltk\n",
    "from nltk.corpus import stopwords\n",
    "nltk.download('stopwords')\n",
    "from nltk.tokenize import word_tokenize\n",
    "import nltk\n",
    "nltk.download('punkt')"
   ]
  },
  {
   "cell_type": "code",
   "execution_count": 2,
   "metadata": {},
   "outputs": [],
   "source": [
    "data = pd.read_csv('amazon_prime_titles.csv')\n",
    "\n",
    "data = data.dropna(subset=['country','rating'])\n",
    "\n",
    "movies = data[data['type'] == 'Movie'].reset_index()\n",
    "movies = movies.drop(['index', 'show_id', 'type', 'date_added', 'release_year', 'duration'], axis=1)\n",
    "tv = data[data['type'] == 'TV Show'].reset_index()\n",
    "tv = tv.drop(['index', 'show_id', 'type', 'date_added', 'release_year', 'duration'], axis=1)\n",
    "\n",
    "directors = []\n",
    "\n",
    "for i in movies['director']:\n",
    "    if pd.notna(i):\n",
    "        director = re.split(r', \\s*', i)\n",
    "        directors.append(director)\n",
    "    \n",
    "flat_list2 = []\n",
    "for sublist in directors:\n",
    "    for item in sublist:\n",
    "        flat_list2.append(item)\n",
    "        \n",
    "directors_list = sorted(set(flat_list2))\n",
    "\n",
    "binary_directors = [[0] * 0 for i in range(len(set(flat_list2)))]\n",
    "\n",
    "for i in movies['director']:\n",
    "    k = 0\n",
    "    for j in directors_list:\n",
    "        if pd.isna(i):\n",
    "            binary_directors[k].append(0.0)\n",
    "        elif j in i:\n",
    "            binary_directors[k].append(1.0)\n",
    "        else:\n",
    "            binary_directors[k].append(0.0)\n",
    "        k+=1\n",
    "        \n",
    "binary_directors = pd.DataFrame(binary_directors).transpose()\n",
    "        \n",
    "countries = []\n",
    "\n",
    "for i in movies['country']:\n",
    "    country = re.split(r', \\s*', i)\n",
    "    countries.append(country)\n",
    "    \n",
    "flat_list3 = []\n",
    "for sublist in countries:\n",
    "    for item in sublist:\n",
    "        flat_list3.append(item)\n",
    "        \n",
    "countries_list = sorted(set(flat_list3))\n",
    "\n",
    "binary_countries = [[0] * 0 for i in range(len(set(flat_list3)))]\n",
    "\n",
    "for i in movies['country']:\n",
    "    k = 0\n",
    "    for j in countries_list:\n",
    "        if j in i:\n",
    "            binary_countries[k].append(1.0)\n",
    "        else:\n",
    "            binary_countries[k].append(0.0)\n",
    "        k+=1\n",
    "        \n",
    "binary_countries = pd.DataFrame(binary_countries).transpose()\n",
    "\n",
    "genres = []\n",
    "\n",
    "for i in movies['listed_in']:\n",
    "    genre = re.split(r', \\s*', i)\n",
    "    genres.append(genre)\n",
    "    \n",
    "flat_list4 = []\n",
    "for sublist in genres:\n",
    "    for item in sublist:\n",
    "        flat_list4.append(item)\n",
    "        \n",
    "genres_list = sorted(set(flat_list4))\n",
    "\n",
    "binary_genres = [[0] * 0 for i in range(len(set(flat_list4)))]\n",
    "\n",
    "for i in movies['listed_in']:\n",
    "    k = 0\n",
    "    for j in genres_list:\n",
    "        if j in i:\n",
    "            binary_genres[k].append(1.0)\n",
    "        else:\n",
    "            binary_genres[k].append(0.0)\n",
    "        k+=1\n",
    "        \n",
    "binary_genres = pd.DataFrame(binary_genres).transpose()\n",
    "\n",
    "ratings = []\n",
    "\n",
    "for i in movies['rating']:\n",
    "    ratings.append(i)\n",
    "\n",
    "ratings_list = sorted(set(ratings))\n",
    "\n",
    "binary_ratings = [[0] * 0 for i in range(len(set(ratings_list)))]\n",
    "\n",
    "for i in movies['rating']:\n",
    "    k = 0\n",
    "    for j in ratings_list:\n",
    "        if j in i:\n",
    "            binary_ratings[k].append(1.0)\n",
    "        else:\n",
    "            binary_ratings[k].append(0.0)\n",
    "        k+=1\n",
    "        \n",
    "binary_ratings = pd.DataFrame(binary_ratings).transpose()\n",
    "\n",
    "binary = pd.concat([binary_directors, binary_countries, binary_genres], axis=1,ignore_index=True)\n",
    "\n",
    "actors2 = []\n",
    "\n",
    "countries2 = []\n",
    "\n",
    "for i in tv['country']:\n",
    "    country2 = re.split(r', \\s*', i)\n",
    "    countries2.append(country2)\n",
    "    \n",
    "flat_list6 = []\n",
    "for sublist in countries2:\n",
    "    for item in sublist:\n",
    "        flat_list6.append(item)\n",
    "        \n",
    "countries_list2 = sorted(set(flat_list6))\n",
    "\n",
    "binary_countries2 = [[0] * 0 for i in range(len(set(flat_list6)))]\n",
    "\n",
    "for i in tv['country']:\n",
    "    k = 0\n",
    "    for j in countries_list2:\n",
    "        if j in i:\n",
    "            binary_countries2[k].append(1.0)\n",
    "        else:\n",
    "            binary_countries2[k].append(0.0)\n",
    "        k+=1\n",
    "        \n",
    "binary_countries2 = pd.DataFrame(binary_countries2).transpose()\n",
    "\n",
    "genres2 = []\n",
    "\n",
    "for i in tv['listed_in']:\n",
    "    genre2 = re.split(r', \\s*', i)\n",
    "    genres2.append(genre2)\n",
    "    \n",
    "flat_list7 = []\n",
    "for sublist in genres2:\n",
    "    for item in sublist:\n",
    "        flat_list7.append(item)\n",
    "        \n",
    "genres_list2 = sorted(set(flat_list7))\n",
    "\n",
    "binary_genres2 = [[0] * 0 for i in range(len(set(flat_list7)))]\n",
    "\n",
    "for i in tv['listed_in']:\n",
    "    k = 0\n",
    "    for j in genres_list2:\n",
    "        if j in i:\n",
    "            binary_genres2[k].append(1.0)\n",
    "        else:\n",
    "            binary_genres2[k].append(0.0)\n",
    "        k+=1\n",
    "        \n",
    "binary_genres2 = pd.DataFrame(binary_genres2).transpose()\n",
    "\n",
    "ratings2 = []\n",
    "\n",
    "for i in tv['rating']:\n",
    "    ratings2.append(i)\n",
    "\n",
    "ratings_list2 = sorted(set(ratings2))\n",
    "\n",
    "binary_ratings2 = [[0] * 0 for i in range(len(set(ratings_list2)))]\n",
    "\n",
    "for i in tv['rating']:\n",
    "    k = 0\n",
    "    for j in ratings_list2:\n",
    "        if j in i:\n",
    "            binary_ratings2[k].append(1.0)\n",
    "        else:\n",
    "            binary_ratings2[k].append(0.0)\n",
    "        k+=1\n",
    "        \n",
    "binary_ratings2 = pd.DataFrame(binary_ratings2).transpose()\n",
    "\n",
    "binary2 = pd.concat([binary_countries2, binary_genres2], axis=1, ignore_index=True)\n"
   ]
  },
  {
   "cell_type": "code",
   "execution_count": 3,
   "metadata": {},
   "outputs": [],
   "source": [
    "def get_recommendations(search):\n",
    "    cs_list = []\n",
    "    binary_list = []\n",
    "    if search in movies['title'].values:\n",
    "        idx = movies[movies['title'] == search].index.item()\n",
    "        for i in binary.iloc[idx]:\n",
    "            binary_list.append(i)\n",
    "        point1 = np.array(binary_list).reshape(1, -1)\n",
    "        point1 = [val for sublist in point1 for val in sublist]    \n",
    "        for j in range(len(movies)):\n",
    "            binary_list2 = []\n",
    "            for k in binary.iloc[j]:\n",
    "                binary_list2.append(k)\n",
    "            point2 = np.array(binary_list2).reshape(1, -1)\n",
    "            point2 = [val for sublist in point2 for val in sublist]\n",
    "            dot_product = np.dot(point1, point2)\n",
    "            norm_1 = np.linalg.norm(point1)\n",
    "            norm_2 = np.linalg.norm(point2)\n",
    "            cos_sim = dot_product / (norm_1 * norm_2)\n",
    "            cs_list.append(cos_sim)\n",
    "        movies_copy = movies.copy()\n",
    "        movies_copy['cos_sim'] = cs_list\n",
    "        results = movies_copy.sort_values('cos_sim', ascending=False)\n",
    "        results = results[results['title'] != search]    \n",
    "        top_results = results['title'].head(5)\n",
    "        return(top_results)\n",
    "    elif search in tv['title'].values:\n",
    "        idx = tv[tv['title'] == search].index.item()\n",
    "        for i in binary2.iloc[idx]:\n",
    "            binary_list.append(i)\n",
    "        point1 = np.array(binary_list).reshape(1, -1)\n",
    "        point1 = [val for sublist in point1 for val in sublist]\n",
    "        for j in range(len(tv)):\n",
    "            binary_list2 = []\n",
    "            for k in binary2.iloc[j]:\n",
    "                binary_list2.append(k)\n",
    "            point2 = np.array(binary_list2).reshape(1, -1)\n",
    "            point2 = [val for sublist in point2 for val in sublist]\n",
    "            dot_product = np.dot(point1, point2)\n",
    "            norm_1 = np.linalg.norm(point1)\n",
    "            norm_2 = np.linalg.norm(point2)\n",
    "            cos_sim = dot_product / (norm_1 * norm_2)\n",
    "            cs_list.append(cos_sim)\n",
    "        tv_copy = tv.copy()\n",
    "        tv_copy['cos_sim'] = cs_list\n",
    "        results = tv_copy.sort_values('cos_sim', ascending=False)\n",
    "        results = results[results['title'] != search]    \n",
    "        top_results = results['title'].head(5)\n",
    "        return(top_results)\n",
    "    else:\n",
    "        return(\"Title not in dataset. Please check spelling.\")\n"
   ]
  },
  {
   "cell_type": "code",
   "execution_count": 4,
   "metadata": {},
   "outputs": [
    {
     "name": "stdout",
     "output_type": "stream",
     "text": [
      "Pick a movie/tv show you would like a reccomendation for. \n",
      "Zoe\n"
     ]
    },
    {
     "data": {
      "text/plain": [
       "1                                               Zoombies\n",
       "26                                               Xchange\n",
       "319                              Plato's Reality Machine\n",
       "13                               Yoga to Break Any Habit\n",
       "32     Wonderful Nursery Rhymes with Jacus - By Littl...\n",
       "Name: title, dtype: object"
      ]
     },
     "execution_count": 4,
     "metadata": {},
     "output_type": "execute_result"
    }
   ],
   "source": [
    "title = input('Pick a movie/tv show you would like a reccomendation for. \\n')\n",
    "get_recommendations(title)"
   ]
  },
  {
   "cell_type": "code",
   "execution_count": 6,
   "metadata": {},
   "outputs": [
    {
     "name": "stdout",
     "output_type": "stream",
     "text": [
      "Pick a movie/tv show you would like a reccomendation for. \n",
      "Xchange\n"
     ]
    },
    {
     "data": {
      "text/plain": [
       "27               X-Ray\n",
       "2                  Zoe\n",
       "217     Beyond the Sky\n",
       "1             Zoombies\n",
       "34     Woman Of Desire\n",
       "Name: title, dtype: object"
      ]
     },
     "execution_count": 6,
     "metadata": {},
     "output_type": "execute_result"
    }
   ],
   "source": [
    "title = input('Pick a movie/tv show you would like a reccomendation for. \\n')\n",
    "get_recommendations(title)"
   ]
  },
  {
   "cell_type": "code",
   "execution_count": 7,
   "metadata": {},
   "outputs": [
    {
     "data": {
      "text/plain": [
       "180    F2 - Fun and Frustration\n",
       "512          Mere Dad Ki Maruti\n",
       "297                      Boyz 2\n",
       "123                  Nawabzaade\n",
       "261                      Mitron\n",
       "Name: title, dtype: object"
      ]
     },
     "execution_count": 7,
     "metadata": {},
     "output_type": "execute_result"
    }
   ],
   "source": [
    "get_recommendations('Wedding Cha Shinema')"
   ]
  },
  {
   "cell_type": "code",
   "execution_count": 8,
   "metadata": {},
   "outputs": [
    {
     "data": {
      "text/plain": [
       "174         Generation Aami\n",
       "0      Take Care Good Night\n",
       "418                    Daag\n",
       "477                  Duniya\n",
       "400                 Mashaal\n",
       "Name: title, dtype: object"
      ]
     },
     "execution_count": 8,
     "metadata": {},
     "output_type": "execute_result"
    }
   ],
   "source": [
    "get_recommendations('Bornoporichoy')"
   ]
  },
  {
   "cell_type": "code",
   "execution_count": 9,
   "metadata": {},
   "outputs": [
    {
     "data": {
      "text/plain": [
       "354          Rock On\n",
       "209    Bornoporichoy\n",
       "277      Fanney Khan\n",
       "38            Whoop!\n",
       "107         Problems\n",
       "Name: title, dtype: object"
      ]
     },
     "execution_count": 9,
     "metadata": {},
     "output_type": "execute_result"
    }
   ],
   "source": [
    "get_recommendations('Generation Aami')"
   ]
  },
  {
   "cell_type": "code",
   "execution_count": 11,
   "metadata": {},
   "outputs": [
    {
     "data": {
      "text/plain": [
       "419             Chandni\n",
       "409    Jab Tak Hai Jaan\n",
       "403               Lamhe\n",
       "400             Mashaal\n",
       "418                Daag\n",
       "Name: title, dtype: object"
      ]
     },
     "execution_count": 11,
     "metadata": {},
     "output_type": "execute_result"
    }
   ],
   "source": [
    "get_recommendations('Silsila')"
   ]
  },
  {
   "cell_type": "code",
   "execution_count": null,
   "metadata": {},
   "outputs": [],
   "source": []
  }
 ],
 "metadata": {
  "kernelspec": {
   "display_name": "Python 3",
   "language": "python",
   "name": "python3"
  },
  "language_info": {
   "codemirror_mode": {
    "name": "ipython",
    "version": 3
   },
   "file_extension": ".py",
   "mimetype": "text/x-python",
   "name": "python",
   "nbconvert_exporter": "python",
   "pygments_lexer": "ipython3",
   "version": "3.8.3"
  }
 },
 "nbformat": 4,
 "nbformat_minor": 5
}
